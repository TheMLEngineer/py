{
  "nbformat": 4,
  "nbformat_minor": 0,
  "metadata": {
    "colab": {
      "name": "BPIM Check OOP.ipynb",
      "provenance": [],
      "collapsed_sections": [],
      "include_colab_link": true
    },
    "kernelspec": {
      "name": "python2",
      "display_name": "Python 2"
    }
  },
  "cells": [
    {
      "cell_type": "markdown",
      "metadata": {
        "id": "view-in-github",
        "colab_type": "text"
      },
      "source": [
        "<a href=\"https://colab.research.google.com/github/TheMLEngineer/py/blob/master/BPIM_Check_OOP.ipynb\" target=\"_parent\"><img src=\"https://colab.research.google.com/assets/colab-badge.svg\" alt=\"Open In Colab\"/></a>"
      ]
    },
    {
      "cell_type": "code",
      "metadata": {
        "id": "3QiIQAaeotq4",
        "colab_type": "code",
        "colab": {}
      },
      "source": [
        "import sys\n",
        "import os\n",
        "import re\n",
        "import logging\n",
        "import subprocess\n",
        "import datetime\n",
        "import shlex"
      ],
      "execution_count": 0,
      "outputs": []
    },
    {
      "cell_type": "code",
      "metadata": {
        "id": "Z6jCZPpgo1eK",
        "colab_type": "code",
        "colab": {}
      },
      "source": [
        "log_file = open('log_file_bpim.txt' , 'a+')"
      ],
      "execution_count": 0,
      "outputs": []
    },
    {
      "cell_type": "code",
      "metadata": {
        "id": "EJPBuEK7Z1U4",
        "colab_type": "code",
        "colab": {}
      },
      "source": [
        "def run_command(command , file):\n",
        "  output_of_command = os.system(str(command))\n",
        "  file.write('\\n'+str(datetime.datetime.now()) +' The command run ' + str(command) + '\\n The Output :' + str(output_of_command))"
      ],
      "execution_count": 0,
      "outputs": []
    },
    {
      "cell_type": "code",
      "metadata": {
        "id": "UdvyhvIMa7re",
        "colab_type": "code",
        "colab": {}
      },
      "source": [
        "host_name = subprocess.check_output('hostname'.strip().split())"
      ],
      "execution_count": 0,
      "outputs": []
    },
    {
      "cell_type": "code",
      "metadata": {
        "id": "lllIbe7UVaju",
        "colab_type": "code",
        "colab": {}
      },
      "source": [
        "#1"
      ],
      "execution_count": 0,
      "outputs": []
    },
    {
      "cell_type": "code",
      "metadata": {
        "id": "uR-8cNACVafn",
        "colab_type": "code",
        "colab": {
          "base_uri": "https://localhost:8080/",
          "height": 35
        },
        "outputId": "019fbd0e-ec4d-4a61-e341-204e0460e234"
      },
      "source": [
        "print 'Starting Step 1 : Fix missing lib symlink'\n",
        "log_file.write('Starting Step 1 : Fix missing lib symlink')"
      ],
      "execution_count": 200,
      "outputs": [
        {
          "output_type": "stream",
          "text": [
            "Starting Step 1 : Fix missing lib symlink\n"
          ],
          "name": "stdout"
        }
      ]
    },
    {
      "cell_type": "code",
      "metadata": {
        "id": "dLtGQjgDkx-T",
        "colab_type": "code",
        "colab": {}
      },
      "source": [
        "run_command('cd' , log_file)"
      ],
      "execution_count": 0,
      "outputs": []
    },
    {
      "cell_type": "code",
      "metadata": {
        "id": "P9Y9unnvVadW",
        "colab_type": "code",
        "colab": {}
      },
      "source": [
        "run_command('cd /usr/lib' , log_file)"
      ],
      "execution_count": 0,
      "outputs": []
    },
    {
      "cell_type": "code",
      "metadata": {
        "id": "q9J0BNkGVaDl",
        "colab_type": "code",
        "colab": {}
      },
      "source": [
        "os.system('ls -la libexpat.so.1.6.0 > symlink_check.txt')\n",
        "has_symlink = False"
      ],
      "execution_count": 0,
      "outputs": []
    },
    {
      "cell_type": "code",
      "metadata": {
        "id": "gEMeiXvnqHnO",
        "colab_type": "code",
        "colab": {}
      },
      "source": [
        "symlink_file = open('symlink_check.txt')\n",
        "symlink_file.seek(0)"
      ],
      "execution_count": 0,
      "outputs": []
    },
    {
      "cell_type": "code",
      "metadata": {
        "id": "WZYvBK6bouk_",
        "colab_type": "code",
        "colab": {}
      },
      "source": [
        "symlink = symlink_file.read()"
      ],
      "execution_count": 0,
      "outputs": []
    },
    {
      "cell_type": "code",
      "metadata": {
        "id": "_DmeUAPqu9oZ",
        "colab_type": "code",
        "colab": {
          "base_uri": "https://localhost:8080/",
          "height": 35
        },
        "outputId": "7cb4ac05-c3d6-4c84-c0b9-4b74dadf0513"
      },
      "source": [
        "symlink"
      ],
      "execution_count": 206,
      "outputs": [
        {
          "output_type": "execute_result",
          "data": {
            "text/plain": [
              "''"
            ]
          },
          "metadata": {
            "tags": []
          },
          "execution_count": 206
        }
      ]
    },
    {
      "cell_type": "code",
      "metadata": {
        "id": "h-7vKsZxoubt",
        "colab_type": "code",
        "colab": {}
      },
      "source": [
        "try:\n",
        "  if symlink[0] == 'l':\n",
        "    has_symlink = True\n",
        "except:\n",
        "  run_command('sudo ln -s libexpat.so.1.6.0 libexpat.so.0' , log_file)"
      ],
      "execution_count": 0,
      "outputs": []
    },
    {
      "cell_type": "code",
      "metadata": {
        "id": "5laZ1z_xouXK",
        "colab_type": "code",
        "colab": {
          "base_uri": "https://localhost:8080/",
          "height": 72
        },
        "outputId": "12f0f496-edcd-4a88-f303-0f17fc3d5add"
      },
      "source": [
        "if(has_symlink):\n",
        "  print 'The libexpat.so.1.6.0 has a symlink already , So moving to next step'\n",
        "  log_file.write('The libexpat.so.1.6.0 has a symlink already , So moving to next step')\n",
        "\n",
        "if(has_symlink == False):\n",
        "  print 'The libexpat.so.1.6.0 does not has a symlink already , So creating new symlink'\n",
        "  log_file.write('The libexpat.so.1.6.0 does not has a symlink already , So creating new symlink')\n",
        "  run_command('sudo ln -s libexpat.so.1.6.0 libexpat.so.0' , log_file)\n",
        "  print '*'*90\n",
        "  print 'Symlink Created'\n",
        "  log_file.write('Symlink Created')"
      ],
      "execution_count": 208,
      "outputs": [
        {
          "output_type": "stream",
          "text": [
            "The libexpat.so.1.6.0 does not has a symlink already , So creating new symlink\n",
            "******************************************************************************************\n",
            "Symlink Created\n"
          ],
          "name": "stdout"
        }
      ]
    },
    {
      "cell_type": "code",
      "metadata": {
        "id": "coaBFHH0VZ7s",
        "colab_type": "code",
        "colab": {}
      },
      "source": [
        "#2"
      ],
      "execution_count": 0,
      "outputs": []
    },
    {
      "cell_type": "code",
      "metadata": {
        "id": "zz3X2JNcVZ6A",
        "colab_type": "code",
        "colab": {
          "base_uri": "https://localhost:8080/",
          "height": 35
        },
        "outputId": "c78743cd-33bf-43e6-abea-e40a8cc8869c"
      },
      "source": [
        "print 'Starting Step 2 : change httpd conf symlinks'\n",
        "log_file.write('Starting Step 2 : change httpd conf symlinks')"
      ],
      "execution_count": 210,
      "outputs": [
        {
          "output_type": "stream",
          "text": [
            "Starting Step 2 : change httpd conf symlinks\n"
          ],
          "name": "stdout"
        }
      ]
    },
    {
      "cell_type": "code",
      "metadata": {
        "id": "RGtzA64mVZ4B",
        "colab_type": "code",
        "colab": {}
      },
      "source": [
        "list_of_commands = [\n",
        "                    \n",
        "                    'cd' , \n",
        "                    'cd /opt/httpd/httpd-admin' , \n",
        "                    'sudo unlink conf' , \n",
        "                    'sudo ln -s /fs/misc/bpim-local/{0}/apache/conf conf'.format(host_name) , \n",
        "                    'cd' , \n",
        "                    'cd /opt/httpd' , \n",
        "                    'sudo unlink tools_conf' , \n",
        "                    'sudo unlink local_tools' ,\n",
        "                    'sudo ln -s /fs/misc/bpim-local/{0}/tools_conf tools_conf'.format(host_name) , \n",
        "                    'sudo ln -s /fs/misc/bpim-local/{0}/tools_conf local_tools '.format(host_name)\n",
        "\n",
        "]"
      ],
      "execution_count": 0,
      "outputs": []
    },
    {
      "cell_type": "code",
      "metadata": {
        "id": "XTvpBA_4bxbN",
        "colab_type": "code",
        "colab": {}
      },
      "source": [
        "for command in list_of_commands:\n",
        "  run_command(command=command , file = log_file)"
      ],
      "execution_count": 0,
      "outputs": []
    },
    {
      "cell_type": "code",
      "metadata": {
        "id": "X6y8-MPJVZ2V",
        "colab_type": "code",
        "colab": {
          "base_uri": "https://localhost:8080/",
          "height": 35
        },
        "outputId": "7ad0bbcf-f5b3-4a2c-8ce7-140a74938a72"
      },
      "source": [
        "print 'Starting HTTPD Process'\n",
        "log_file.write('\\n Starting HTTPD Process')"
      ],
      "execution_count": 213,
      "outputs": [
        {
          "output_type": "stream",
          "text": [
            "Starting HTTPD Process\n"
          ],
          "name": "stdout"
        }
      ]
    },
    {
      "cell_type": "code",
      "metadata": {
        "id": "k_zc3Z03VZzF",
        "colab_type": "code",
        "colab": {}
      },
      "source": [
        "run_command('sudo service httpd start' , log_file)"
      ],
      "execution_count": 0,
      "outputs": []
    },
    {
      "cell_type": "code",
      "metadata": {
        "id": "Mlv9YUy_o11j",
        "colab_type": "code",
        "colab": {}
      },
      "source": [
        "#3"
      ],
      "execution_count": 0,
      "outputs": []
    },
    {
      "cell_type": "code",
      "metadata": {
        "id": "TZp2zn3Ao14Z",
        "colab_type": "code",
        "colab": {
          "base_uri": "https://localhost:8080/",
          "height": 35
        },
        "outputId": "86591a53-3885-48b2-db18-e695a469ff55"
      },
      "source": [
        "print 'Starting Step 3 : Fixing Oracle Symlinks'\n",
        "log_file.write('Starting Step 3 : Fixing Oracle Symlinks\\n')"
      ],
      "execution_count": 216,
      "outputs": [
        {
          "output_type": "stream",
          "text": [
            "Starting Step 3 : Fixing Oracle Symlinks\n"
          ],
          "name": "stdout"
        }
      ]
    },
    {
      "cell_type": "code",
      "metadata": {
        "id": "s8hqiGwZo17h",
        "colab_type": "code",
        "colab": {}
      },
      "source": [
        "list_of_commands = ['cd',\n",
        "                    'cd /opt/oracle/product' , \n",
        "                    'sudo ln -s /auto/usrcisco-linux-rhel6.0-x86-64/packages/oracle/oracle-11.2.0.3 current-11g' , \n",
        "                    'sudo ln -s /auto/usrcisco-linux-rhel7.0-x86-64/packages/oracle/current current-12g' , \n",
        "                    'sudo rm -f current' , \n",
        "                    'sudo ln -s /auto/usrcisco-linux-rhel6.0-x86-64/packages/oracle/oracle-11.2.0.4-32 current' , \n",
        "                    'sudo rm -f clntcurr 10.2.0.5']"
      ],
      "execution_count": 0,
      "outputs": []
    },
    {
      "cell_type": "code",
      "metadata": {
        "id": "YZ9VAs8ro2AS",
        "colab_type": "code",
        "colab": {}
      },
      "source": [
        "for command in list_of_commands:\n",
        "  run_command(command=command , file = log_file)"
      ],
      "execution_count": 0,
      "outputs": []
    },
    {
      "cell_type": "code",
      "metadata": {
        "id": "rPTMdsE3wBpi",
        "colab_type": "code",
        "colab": {
          "base_uri": "https://localhost:8080/",
          "height": 54
        },
        "outputId": "601f2ff0-98b9-4c64-ebad-ed78a7d5a84a"
      },
      "source": [
        "print 'The Script is been run successfully and the BPIM Host {0} has been validated successfully'.format(host_name)\n",
        "log_file.write('The Script is been run successfully and the BPIM Host {0} has been validated successfully'.format(host_name))\n",
        "log_file.write('*'* 90)"
      ],
      "execution_count": 219,
      "outputs": [
        {
          "output_type": "stream",
          "text": [
            "The Script is been run successfully and the BPIM Host 790615e00689\n",
            " has been validated successfully\n"
          ],
          "name": "stdout"
        }
      ]
    },
    {
      "cell_type": "code",
      "metadata": {
        "id": "Q2KCm_czo2eC",
        "colab_type": "code",
        "colab": {}
      },
      "source": [
        "log_file.close()"
      ],
      "execution_count": 0,
      "outputs": []
    }
  ]
}